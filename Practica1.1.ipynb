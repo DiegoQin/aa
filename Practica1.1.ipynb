{
 "cells": [
  {
   "cell_type": "markdown",
   "metadata": {},
   "source": [
    "# Práctica 1.1\n",
    "\n",
    "### Limpieza, Transformación y Reducción"
   ]
  },
  {
   "cell_type": "code",
   "execution_count": 1,
   "metadata": {},
   "outputs": [],
   "source": [
    "import numpy as np\n",
    "import pandas as pd"
   ]
  },
  {
   "cell_type": "markdown",
   "metadata": {},
   "source": [
    "# Limpieza"
   ]
  },
  {
   "cell_type": "markdown",
   "metadata": {},
   "source": [
    "## Gestionando los valores nulos"
   ]
  },
  {
   "cell_type": "markdown",
   "metadata": {},
   "source": [
    "### Buscar valores nulos"
   ]
  },
  {
   "cell_type": "code",
   "execution_count": 20,
   "metadata": {},
   "outputs": [
    {
     "name": "stdout",
     "output_type": "stream",
     "text": [
      "Dimensiones (768, 9)\n",
      "valores nulos por variable\n"
     ]
    }
   ],
   "source": [
    "df1 = pd.read_csv('data/diabetes_null.csv')\n",
    "print (\"Dimensiones\", df1.shape)\n",
    "print (\"valores nulos por variable\")\n",
    "# TODO \n",
    "# Imprimir cuantos valores nulos tiene cada columna"
   ]
  },
  {
   "cell_type": "markdown",
   "metadata": {},
   "source": [
    "### Borrar filas con valores nulos"
   ]
  },
  {
   "cell_type": "code",
   "execution_count": 21,
   "metadata": {},
   "outputs": [],
   "source": [
    "# TODO\n",
    "# Crear un nuevo DataFrame sin las filas con valores nulos.\n",
    "# Imprimir cuantos valores nulos tiene cada columna."
   ]
  },
  {
   "cell_type": "markdown",
   "metadata": {},
   "source": [
    "¿Cuántas filas se han borrado? ¿Había alguna fila con más de un valor nulo?"
   ]
  },
  {
   "cell_type": "markdown",
   "metadata": {},
   "source": [
    "### Completar con la media"
   ]
  },
  {
   "cell_type": "markdown",
   "metadata": {},
   "source": [
    "Buscar información sobre como usar SimpleImputer en la documentación de [Scikit-Learn](https://scikit-learn.org/stable/)"
   ]
  },
  {
   "cell_type": "code",
   "execution_count": 22,
   "metadata": {},
   "outputs": [],
   "source": [
    "from sklearn.impute import SimpleImputer\n",
    "\n",
    "# Data from excel\n",
    "df1 = pd.read_csv('data/diabetes_null.csv')\n",
    "df1.replace('NaN', pd.NA, inplace=True)\n",
    "imputer=SimpleImputer(strategy=\"mean\")\n",
    "imputer.fit(df1)\n",
    "df2 = imputer.transform(df1)\n",
    "df2 = pd.DataFrame(data=f2,colimuna=df1.columns)\n",
    "print(df2.isnull())\n",
    "# TODO\n",
    "# Implementar y aplicar SimpleImputer para rellenar los valores nulos del DataFrame con la media de la columna.\n",
    "# Imprimir el número de valores nulos en cada columna para comprobar que se han imputado los valores correctamente."
   ]
  },
  {
   "cell_type": "markdown",
   "metadata": {},
   "source": [
    "### Completar con la mediana"
   ]
  },
  {
   "cell_type": "code",
   "execution_count": 7,
   "metadata": {},
   "outputs": [],
   "source": [
    "from sklearn.impute import SimpleImputer\n",
    "\n",
    "# Data from excel\n",
    "df1 = pd.read_csv('data/diabetes_null.csv')\n",
    "df1.replace(\"NaN\", pd.NA, inplace=True)\n",
    "\n",
    "# TODO\n",
    "# Implementar y aplicar SimpleImputer para rellenar los valores nulos del DataFrame con la mediana de la columna.\n",
    "# Imprimir el número de valores nulos en cada columna para comprobar que se han imputado los valores correctamente."
   ]
  },
  {
   "cell_type": "markdown",
   "metadata": {},
   "source": [
    "## Gestionando ruido y los datos"
   ]
  },
  {
   "cell_type": "markdown",
   "metadata": {},
   "source": [
    "### Función para detectar valores atípicos"
   ]
  },
  {
   "cell_type": "markdown",
   "metadata": {},
   "source": [
    "Crear una función para detectar valores atípicos (OUTLIERS)"
   ]
  },
  {
   "cell_type": "code",
   "execution_count": 8,
   "metadata": {},
   "outputs": [],
   "source": [
    "def find_outliers_tukey(x):\n",
    "    # TODO\n",
    "    # Completar la función donde se detectan los valores atípicos en una columna.\n",
    "    # La función debe devolver una lista con los indices de los valores atípicos y otra lista con los valores.\n",
    "    q1 = x.quantile(.25)\n",
    "    q3 = x.quantile(.75)\n",
    "    iqr = q3-q1\n",
    "    \n",
    "    return outlier_indices, outlier_values\n"
   ]
  },
  {
   "cell_type": "markdown",
   "metadata": {},
   "source": [
    "### Valores atípicos encontrados en cada columna"
   ]
  },
  {
   "cell_type": "markdown",
   "metadata": {},
   "source": [
    "Utilizar la función creada anteriormente para encontrar los valores atípicos de cada columna del DataFrame."
   ]
  },
  {
   "cell_type": "code",
   "execution_count": 10,
   "metadata": {},
   "outputs": [
    {
     "name": "stdout",
     "output_type": "stream",
     "text": [
      "Outliers for Glucose\n",
      "Outliers for Pregnancies\n",
      "Outliers for BloodPressure\n",
      "Outliers for SkinThickness\n",
      "Outliers for Insulin\n",
      "Outliers for BMI\n",
      "Outliers for DiabetesPedigreeFunction\n",
      "Outliers for Age\n"
     ]
    }
   ],
   "source": [
    "print(\"Outliers for Glucose\")\n",
    "# TODO\n",
    "# Aplicar la función a la columna \"Glucose\" e imprimir los valores atípicos de forma ordenada.\n",
    "\n",
    "print(\"Outliers for Pregnancies\")\n",
    "# TODO\n",
    "# Aplicar la función a la columna \"Pregnancies\" e imprimir los valores atípicos de forma ordenada.\n",
    "\n",
    "print(\"Outliers for BloodPressure\")\n",
    "# TODO\n",
    "# Aplicar la función a la columna \"BloodPressure\" e imprimir los valores atípicos de forma ordenada.\n",
    "\n",
    "print(\"Outliers for SkinThickness\")\n",
    "# TODO\n",
    "# Aplicar la función a la columna \"SkinThickness\" e imprimir los valores atípicos de forma ordenada.\n",
    "\n",
    "print(\"Outliers for Insulin\")\n",
    "# TODO\n",
    "# Aplicar la función a la columna \"Insulin\" e imprimir los valores atípicos de forma ordenada.\n",
    "\n",
    "print(\"Outliers for BMI\")\n",
    "# TODO\n",
    "# Aplicar la función a la columna \"BMI\" e imprimir los valores atípicos de forma ordenada.\n",
    "\n",
    "print(\"Outliers for DiabetesPedigreeFunction\")\n",
    "# TODO\n",
    "# Aplicar la función a la columna \"DiabetesPedigreeFunction\" e imprimir los valores atípicos de forma ordenada.\n",
    "\n",
    "print(\"Outliers for Age\")\n",
    "# TODO\n",
    "# Aplicar la función a la columna \"Age\" e imprimir los valores atípicos de forma ordenada.\n"
   ]
  },
  {
   "cell_type": "markdown",
   "metadata": {},
   "source": [
    "¿Qué conclusiones puedes sacar los valores atípicos encontrados en los datos?"
   ]
  },
  {
   "cell_type": "markdown",
   "metadata": {},
   "source": [
    "## Borrando filas con valores atípicos no deseados"
   ]
  },
  {
   "cell_type": "markdown",
   "metadata": {},
   "source": [
    "Borrar las filas que tengan valores atípicos en la columna \"Pregnancies\""
   ]
  },
  {
   "cell_type": "code",
   "execution_count": 11,
   "metadata": {},
   "outputs": [],
   "source": [
    "# TODO \n",
    "# Crear un nuevo DataFrame sin las filas con los valores atípicos de la variable \"Pregnancies\"\n"
   ]
  },
  {
   "cell_type": "markdown",
   "metadata": {},
   "source": [
    "¿Cuantás filas hay con valores atípicos en esa columna?"
   ]
  },
  {
   "cell_type": "markdown",
   "metadata": {},
   "source": [
    "## Reemplazando con el mínimo o el máximo "
   ]
  },
  {
   "cell_type": "markdown",
   "metadata": {},
   "source": [
    "### Reemplazar con el valor mínimo."
   ]
  },
  {
   "cell_type": "markdown",
   "metadata": {},
   "source": [
    "Obtener e imprimir el valor mínimo y la media de la columna \"Insulin\"."
   ]
  },
  {
   "cell_type": "code",
   "execution_count": 12,
   "metadata": {},
   "outputs": [],
   "source": [
    "# TODO\n",
    "# Usar la función \"min\" de la librería Numpy para obtener el mínimo de la columna \"Insulin\" e imprimir el valor\n",
    "\n",
    "# TODO\n",
    "# Obtener el valor medio de la columna \"Insulin\" e imprimir dicho valor"
   ]
  },
  {
   "cell_type": "markdown",
   "metadata": {},
   "source": [
    "Usar el valor mínimo de la columna \"Insulin\" obtenido para reemplazar todos los que sean mayores al valor de 168."
   ]
  },
  {
   "cell_type": "code",
   "execution_count": 13,
   "metadata": {},
   "outputs": [],
   "source": [
    "# TODO\n",
    "# Reemplazar los valores de la columna \"Insulin\" superiores a 168 por el valor mínimo obtenido.\n",
    "\n",
    "# TODO\n",
    "# Obtener e imprimir el valor medio de la columna \"Insulin\"."
   ]
  },
  {
   "cell_type": "markdown",
   "metadata": {},
   "source": [
    "¿Cómo ha cmabiado la media de la columna \"Insulin\" al reemplazar los valores superiores a 168 por el mínimo?"
   ]
  },
  {
   "cell_type": "markdown",
   "metadata": {},
   "source": [
    "### Reemplazar con el valor máximo"
   ]
  },
  {
   "cell_type": "markdown",
   "metadata": {},
   "source": [
    "Obtener e imprimir el valor máximo y la media de la columna \"BloodPressure\"."
   ]
  },
  {
   "cell_type": "code",
   "execution_count": 14,
   "metadata": {},
   "outputs": [],
   "source": [
    "# TODO\n",
    "# Usar la función \"max\" de la librería Numpy para obtener el mínimo de la columna \"BloodPressure\" e imprimir el valor\n",
    "\n",
    "# TODO\n",
    "# Obtener el valor medio de la columna \"BloodPressure\" e imprimir dicho valor"
   ]
  },
  {
   "cell_type": "markdown",
   "metadata": {},
   "source": [
    "Usar el valor máximo de la columna \"BloodPressure\" obtenido para reemplazar todos los que sean mayores al valor de 96."
   ]
  },
  {
   "cell_type": "code",
   "execution_count": 15,
   "metadata": {},
   "outputs": [],
   "source": [
    "# TODO\n",
    "# Reemplazar los valores de la columna \"BloodPressure\" superiores a 96 por el valor máximo obtenido.\n",
    "\n",
    "# TODO\n",
    "# Obtener e imprimir el valor medio de la columna \"BloodPressure\"."
   ]
  },
  {
   "cell_type": "markdown",
   "metadata": {},
   "source": [
    "# Visualización"
   ]
  },
  {
   "cell_type": "markdown",
   "metadata": {},
   "source": [
    "## Histograma"
   ]
  },
  {
   "cell_type": "markdown",
   "metadata": {},
   "source": [
    "Hacer el histograma del DataFrame con los datos modificados."
   ]
  },
  {
   "cell_type": "code",
   "execution_count": 16,
   "metadata": {},
   "outputs": [
    {
     "ename": "ModuleNotFoundError",
     "evalue": "No module named 'matplotlib'",
     "output_type": "error",
     "traceback": [
      "\u001b[1;31m---------------------------------------------------------------------------\u001b[0m",
      "\u001b[1;31mModuleNotFoundError\u001b[0m                       Traceback (most recent call last)",
      "Cell \u001b[1;32mIn[16], line 1\u001b[0m\n\u001b[1;32m----> 1\u001b[0m \u001b[38;5;28;01mimport\u001b[39;00m \u001b[38;5;21;01mmatplotlib\u001b[39;00m\u001b[38;5;21;01m.\u001b[39;00m\u001b[38;5;21;01mpyplot\u001b[39;00m \u001b[38;5;28;01mas\u001b[39;00m \u001b[38;5;21;01mplt\u001b[39;00m\n\u001b[0;32m      2\u001b[0m \u001b[38;5;66;03m# TODO\u001b[39;00m\n\u001b[0;32m      3\u001b[0m \u001b[38;5;66;03m# Crear el histograma en una figura de 15x15.\u001b[39;00m\n\u001b[0;32m      5\u001b[0m plt\u001b[38;5;241m.\u001b[39mshow()\n",
      "\u001b[1;31mModuleNotFoundError\u001b[0m: No module named 'matplotlib'"
     ]
    }
   ],
   "source": [
    "import matplotlib.pyplot as plt\n",
    "# TODO\n",
    "# Crear el histograma en una figura de 15x15.\n",
    "\n",
    "plt.show()"
   ]
  },
  {
   "cell_type": "markdown",
   "metadata": {},
   "source": [
    "¿Qué es lo que ves en las gráficas?"
   ]
  },
  {
   "cell_type": "markdown",
   "metadata": {},
   "source": [
    "## Density Plot"
   ]
  },
  {
   "cell_type": "markdown",
   "metadata": {},
   "source": [
    "Hacer un density plot del DataFrame con los datos modificados."
   ]
  },
  {
   "cell_type": "code",
   "execution_count": null,
   "metadata": {},
   "outputs": [],
   "source": [
    "# TODO\n",
    "# Hacer el density plot\n",
    "plt.show()"
   ]
  },
  {
   "cell_type": "markdown",
   "metadata": {},
   "source": [
    "¿Estas gráficas confirman las conclusiones obtenidas del histograma?"
   ]
  },
  {
   "cell_type": "markdown",
   "metadata": {},
   "source": [
    "## Box Plot"
   ]
  },
  {
   "cell_type": "markdown",
   "metadata": {},
   "source": [
    "Hacer un box plot del DataFrame con los datos modificados."
   ]
  },
  {
   "cell_type": "code",
   "execution_count": null,
   "metadata": {},
   "outputs": [],
   "source": [
    "# TODO\n",
    "# Hacer el box plot\n",
    "plt.show()\n"
   ]
  },
  {
   "cell_type": "markdown",
   "metadata": {},
   "source": [
    "¿Y estás?"
   ]
  },
  {
   "cell_type": "markdown",
   "metadata": {},
   "source": [
    "## Matríz de Correlación"
   ]
  },
  {
   "cell_type": "markdown",
   "metadata": {},
   "source": [
    "Crear la matríz de correlación y mostrarla en una gráfica."
   ]
  },
  {
   "cell_type": "code",
   "execution_count": null,
   "metadata": {},
   "outputs": [],
   "source": [
    "# TODO\n",
    "# Modificar el siguiente código para que el nombre del  DataFrame sea el correcto.\n",
    "\n",
    "#Correlatión de Pearson\n",
    "cor = df_del.corr() # TODO En esta fila es la única que hay que modificar.\n",
    "fig = plt.figure()\n",
    "ax = fig.add_subplot(111)\n",
    "cax = ax.matshow(cor, vmin=-1, vmax =1)\n",
    "fig.colorbar(cax)\n",
    "ticks=np.arange(0,9,1)\n",
    "ax.set_xticks(ticks)\n",
    "ax.set_yticks(ticks)\n",
    "plt.show()"
   ]
  },
  {
   "cell_type": "markdown",
   "metadata": {},
   "source": [
    "¿Qué es lo que se ve en la figura?"
   ]
  },
  {
   "cell_type": "markdown",
   "metadata": {},
   "source": [
    "## Scatter Plot"
   ]
  },
  {
   "cell_type": "markdown",
   "metadata": {},
   "source": [
    "Buscar en la documentación de [Pandas](https://pandas.pydata.org/) que es y como hacer un Scatter Plot"
   ]
  },
  {
   "cell_type": "code",
   "execution_count": null,
   "metadata": {},
   "outputs": [],
   "source": [
    "from pandas.plotting import scatter_matrix\n",
    "# TODO\n",
    "# Hacer un Scatter Plot de los datos modificados.\n",
    "\n",
    "plt.show()"
   ]
  },
  {
   "cell_type": "markdown",
   "metadata": {},
   "source": [
    "¿Qué es lo que se muestra en la figura?"
   ]
  }
 ],
 "metadata": {
  "kernelspec": {
   "display_name": "Python 3 (ipykernel)",
   "language": "python",
   "name": "python3"
  },
  "language_info": {
   "codemirror_mode": {
    "name": "ipython",
    "version": 3
   },
   "file_extension": ".py",
   "mimetype": "text/x-python",
   "name": "python",
   "nbconvert_exporter": "python",
   "pygments_lexer": "ipython3",
   "version": "3.12.2"
  }
 },
 "nbformat": 4,
 "nbformat_minor": 4
}
